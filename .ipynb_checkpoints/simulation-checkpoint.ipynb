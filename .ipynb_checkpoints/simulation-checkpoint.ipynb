{
 "cells": [
  {
   "cell_type": "code",
   "execution_count": 5,
   "id": "cbda8ecd-9aa2-45e4-ad10-c448944b6423",
   "metadata": {},
   "outputs": [],
   "source": [
    "import math\n",
    "import numpy as np\n",
    "import pandas as pd\n",
    "import datetime as dt\n",
    "import scipy.stats as stats\n",
    "import matplotlib.pyplot as plt\n",
    "from pandas_datareader import  data as pdr\n",
    "import yfinance as yf"
   ]
  },
  {
   "cell_type": "code",
   "execution_count": 3,
   "id": "664227bc-848e-4c53-a7ce-b326374f76df",
   "metadata": {},
   "outputs": [],
   "source": [
    "# Option parameters\n",
    "K = 98.01           # Strike price(where we can either buy or sell incaase of a call option\n",
    "r = 0.015           # Risk-free rate (%)(return on an investment with  zero risk of financial loss\n"
   ]
  },
  {
   "cell_type": "code",
   "execution_count": 7,
   "id": "5d8077c6-57b4-4ea5-bc04-178709fd93de",
   "metadata": {},
   "outputs": [
    {
     "name": "stderr",
     "output_type": "stream",
     "text": [
      "[*********************100%%**********************]  1 of 1 completed\n"
     ]
    }
   ],
   "source": [
    "\n",
    "# Fetch historical price data from Yahoo Finance\n",
    "ticker = 'AAPL'\n",
    "start_date = '2022-01-17'  # Start date which wil act as a reference date\n",
    "end_date = '2022-03-17'    # End date is the expiration date of the option\n",
    "data = yf.download(ticker, start=start_date, end=end_date)\n",
    "\n"
   ]
  },
  {
   "cell_type": "code",
   "execution_count": 10,
   "id": "6244a2d2-dc8a-4f27-af86-8d368b5cc303",
   "metadata": {},
   "outputs": [
    {
     "data": {
      "text/html": [
       "<div>\n",
       "<style scoped>\n",
       "    .dataframe tbody tr th:only-of-type {\n",
       "        vertical-align: middle;\n",
       "    }\n",
       "\n",
       "    .dataframe tbody tr th {\n",
       "        vertical-align: top;\n",
       "    }\n",
       "\n",
       "    .dataframe thead th {\n",
       "        text-align: right;\n",
       "    }\n",
       "</style>\n",
       "<table border=\"1\" class=\"dataframe\">\n",
       "  <thead>\n",
       "    <tr style=\"text-align: right;\">\n",
       "      <th></th>\n",
       "      <th>Open</th>\n",
       "      <th>High</th>\n",
       "      <th>Low</th>\n",
       "      <th>Close</th>\n",
       "      <th>Adj Close</th>\n",
       "      <th>Volume</th>\n",
       "    </tr>\n",
       "    <tr>\n",
       "      <th>Date</th>\n",
       "      <th></th>\n",
       "      <th></th>\n",
       "      <th></th>\n",
       "      <th></th>\n",
       "      <th></th>\n",
       "      <th></th>\n",
       "    </tr>\n",
       "  </thead>\n",
       "  <tbody>\n",
       "    <tr>\n",
       "      <th>2022-01-18</th>\n",
       "      <td>171.509995</td>\n",
       "      <td>172.539993</td>\n",
       "      <td>169.410004</td>\n",
       "      <td>169.800003</td>\n",
       "      <td>167.667892</td>\n",
       "      <td>90956700</td>\n",
       "    </tr>\n",
       "    <tr>\n",
       "      <th>2022-01-19</th>\n",
       "      <td>170.000000</td>\n",
       "      <td>171.080002</td>\n",
       "      <td>165.940002</td>\n",
       "      <td>166.229996</td>\n",
       "      <td>164.142700</td>\n",
       "      <td>94815000</td>\n",
       "    </tr>\n",
       "    <tr>\n",
       "      <th>2022-01-20</th>\n",
       "      <td>166.979996</td>\n",
       "      <td>169.679993</td>\n",
       "      <td>164.179993</td>\n",
       "      <td>164.509995</td>\n",
       "      <td>162.444275</td>\n",
       "      <td>91420500</td>\n",
       "    </tr>\n",
       "    <tr>\n",
       "      <th>2022-01-21</th>\n",
       "      <td>164.419998</td>\n",
       "      <td>166.330002</td>\n",
       "      <td>162.300003</td>\n",
       "      <td>162.410004</td>\n",
       "      <td>160.370667</td>\n",
       "      <td>122848900</td>\n",
       "    </tr>\n",
       "    <tr>\n",
       "      <th>2022-01-24</th>\n",
       "      <td>160.020004</td>\n",
       "      <td>162.300003</td>\n",
       "      <td>154.699997</td>\n",
       "      <td>161.619995</td>\n",
       "      <td>159.590591</td>\n",
       "      <td>162294600</td>\n",
       "    </tr>\n",
       "    <tr>\n",
       "      <th>2022-01-25</th>\n",
       "      <td>158.979996</td>\n",
       "      <td>162.759995</td>\n",
       "      <td>157.020004</td>\n",
       "      <td>159.779999</td>\n",
       "      <td>157.773712</td>\n",
       "      <td>115798400</td>\n",
       "    </tr>\n",
       "    <tr>\n",
       "      <th>2022-01-26</th>\n",
       "      <td>163.500000</td>\n",
       "      <td>164.389999</td>\n",
       "      <td>157.820007</td>\n",
       "      <td>159.690002</td>\n",
       "      <td>157.684814</td>\n",
       "      <td>108275300</td>\n",
       "    </tr>\n",
       "    <tr>\n",
       "      <th>2022-01-27</th>\n",
       "      <td>162.449997</td>\n",
       "      <td>163.839996</td>\n",
       "      <td>158.279999</td>\n",
       "      <td>159.220001</td>\n",
       "      <td>157.220718</td>\n",
       "      <td>121954600</td>\n",
       "    </tr>\n",
       "    <tr>\n",
       "      <th>2022-01-28</th>\n",
       "      <td>165.710007</td>\n",
       "      <td>170.350006</td>\n",
       "      <td>162.800003</td>\n",
       "      <td>170.330002</td>\n",
       "      <td>168.191208</td>\n",
       "      <td>179935700</td>\n",
       "    </tr>\n",
       "    <tr>\n",
       "      <th>2022-01-31</th>\n",
       "      <td>170.160004</td>\n",
       "      <td>175.000000</td>\n",
       "      <td>169.509995</td>\n",
       "      <td>174.779999</td>\n",
       "      <td>172.585327</td>\n",
       "      <td>115541600</td>\n",
       "    </tr>\n",
       "    <tr>\n",
       "      <th>2022-02-01</th>\n",
       "      <td>174.009995</td>\n",
       "      <td>174.839996</td>\n",
       "      <td>172.309998</td>\n",
       "      <td>174.610001</td>\n",
       "      <td>172.417480</td>\n",
       "      <td>86213900</td>\n",
       "    </tr>\n",
       "    <tr>\n",
       "      <th>2022-02-02</th>\n",
       "      <td>174.750000</td>\n",
       "      <td>175.880005</td>\n",
       "      <td>173.330002</td>\n",
       "      <td>175.839996</td>\n",
       "      <td>173.632034</td>\n",
       "      <td>84914300</td>\n",
       "    </tr>\n",
       "    <tr>\n",
       "      <th>2022-02-03</th>\n",
       "      <td>174.479996</td>\n",
       "      <td>176.240005</td>\n",
       "      <td>172.119995</td>\n",
       "      <td>172.899994</td>\n",
       "      <td>170.728928</td>\n",
       "      <td>89418100</td>\n",
       "    </tr>\n",
       "    <tr>\n",
       "      <th>2022-02-04</th>\n",
       "      <td>171.679993</td>\n",
       "      <td>174.100006</td>\n",
       "      <td>170.679993</td>\n",
       "      <td>172.389999</td>\n",
       "      <td>170.442245</td>\n",
       "      <td>82465400</td>\n",
       "    </tr>\n",
       "    <tr>\n",
       "      <th>2022-02-07</th>\n",
       "      <td>172.860001</td>\n",
       "      <td>173.949997</td>\n",
       "      <td>170.949997</td>\n",
       "      <td>171.660004</td>\n",
       "      <td>169.720474</td>\n",
       "      <td>77251200</td>\n",
       "    </tr>\n",
       "    <tr>\n",
       "      <th>2022-02-08</th>\n",
       "      <td>171.729996</td>\n",
       "      <td>175.350006</td>\n",
       "      <td>171.429993</td>\n",
       "      <td>174.830002</td>\n",
       "      <td>172.854675</td>\n",
       "      <td>74829200</td>\n",
       "    </tr>\n",
       "    <tr>\n",
       "      <th>2022-02-09</th>\n",
       "      <td>176.050003</td>\n",
       "      <td>176.649994</td>\n",
       "      <td>174.899994</td>\n",
       "      <td>176.279999</td>\n",
       "      <td>174.288254</td>\n",
       "      <td>71285000</td>\n",
       "    </tr>\n",
       "    <tr>\n",
       "      <th>2022-02-10</th>\n",
       "      <td>174.139999</td>\n",
       "      <td>175.479996</td>\n",
       "      <td>171.550003</td>\n",
       "      <td>172.119995</td>\n",
       "      <td>170.175293</td>\n",
       "      <td>90865900</td>\n",
       "    </tr>\n",
       "    <tr>\n",
       "      <th>2022-02-11</th>\n",
       "      <td>172.330002</td>\n",
       "      <td>173.080002</td>\n",
       "      <td>168.039993</td>\n",
       "      <td>168.639999</td>\n",
       "      <td>166.734604</td>\n",
       "      <td>98670700</td>\n",
       "    </tr>\n",
       "    <tr>\n",
       "      <th>2022-02-14</th>\n",
       "      <td>167.369995</td>\n",
       "      <td>169.580002</td>\n",
       "      <td>166.559998</td>\n",
       "      <td>168.880005</td>\n",
       "      <td>166.971909</td>\n",
       "      <td>86185500</td>\n",
       "    </tr>\n",
       "    <tr>\n",
       "      <th>2022-02-15</th>\n",
       "      <td>170.970001</td>\n",
       "      <td>172.949997</td>\n",
       "      <td>170.250000</td>\n",
       "      <td>172.789993</td>\n",
       "      <td>170.837708</td>\n",
       "      <td>62527400</td>\n",
       "    </tr>\n",
       "    <tr>\n",
       "      <th>2022-02-16</th>\n",
       "      <td>171.850006</td>\n",
       "      <td>173.339996</td>\n",
       "      <td>170.050003</td>\n",
       "      <td>172.550003</td>\n",
       "      <td>170.600418</td>\n",
       "      <td>61177400</td>\n",
       "    </tr>\n",
       "    <tr>\n",
       "      <th>2022-02-17</th>\n",
       "      <td>171.029999</td>\n",
       "      <td>171.910004</td>\n",
       "      <td>168.470001</td>\n",
       "      <td>168.880005</td>\n",
       "      <td>166.971909</td>\n",
       "      <td>69589300</td>\n",
       "    </tr>\n",
       "    <tr>\n",
       "      <th>2022-02-18</th>\n",
       "      <td>169.820007</td>\n",
       "      <td>170.539993</td>\n",
       "      <td>166.190002</td>\n",
       "      <td>167.300003</td>\n",
       "      <td>165.409760</td>\n",
       "      <td>82772700</td>\n",
       "    </tr>\n",
       "    <tr>\n",
       "      <th>2022-02-22</th>\n",
       "      <td>164.979996</td>\n",
       "      <td>166.690002</td>\n",
       "      <td>162.149994</td>\n",
       "      <td>164.320007</td>\n",
       "      <td>162.463425</td>\n",
       "      <td>91162800</td>\n",
       "    </tr>\n",
       "    <tr>\n",
       "      <th>2022-02-23</th>\n",
       "      <td>165.539993</td>\n",
       "      <td>166.149994</td>\n",
       "      <td>159.750000</td>\n",
       "      <td>160.070007</td>\n",
       "      <td>158.261444</td>\n",
       "      <td>90009200</td>\n",
       "    </tr>\n",
       "    <tr>\n",
       "      <th>2022-02-24</th>\n",
       "      <td>152.580002</td>\n",
       "      <td>162.850006</td>\n",
       "      <td>152.000000</td>\n",
       "      <td>162.740005</td>\n",
       "      <td>160.901291</td>\n",
       "      <td>141147500</td>\n",
       "    </tr>\n",
       "    <tr>\n",
       "      <th>2022-02-25</th>\n",
       "      <td>163.839996</td>\n",
       "      <td>165.119995</td>\n",
       "      <td>160.869995</td>\n",
       "      <td>164.850006</td>\n",
       "      <td>162.987442</td>\n",
       "      <td>91974200</td>\n",
       "    </tr>\n",
       "    <tr>\n",
       "      <th>2022-02-28</th>\n",
       "      <td>163.059998</td>\n",
       "      <td>165.419998</td>\n",
       "      <td>162.429993</td>\n",
       "      <td>165.119995</td>\n",
       "      <td>163.254349</td>\n",
       "      <td>95056600</td>\n",
       "    </tr>\n",
       "    <tr>\n",
       "      <th>2022-03-01</th>\n",
       "      <td>164.699997</td>\n",
       "      <td>166.600006</td>\n",
       "      <td>161.970001</td>\n",
       "      <td>163.199997</td>\n",
       "      <td>161.356064</td>\n",
       "      <td>83474400</td>\n",
       "    </tr>\n",
       "    <tr>\n",
       "      <th>2022-03-02</th>\n",
       "      <td>164.389999</td>\n",
       "      <td>167.360001</td>\n",
       "      <td>162.949997</td>\n",
       "      <td>166.559998</td>\n",
       "      <td>164.678116</td>\n",
       "      <td>79724800</td>\n",
       "    </tr>\n",
       "    <tr>\n",
       "      <th>2022-03-03</th>\n",
       "      <td>168.470001</td>\n",
       "      <td>168.910004</td>\n",
       "      <td>165.550003</td>\n",
       "      <td>166.229996</td>\n",
       "      <td>164.351837</td>\n",
       "      <td>76678400</td>\n",
       "    </tr>\n",
       "    <tr>\n",
       "      <th>2022-03-04</th>\n",
       "      <td>164.490005</td>\n",
       "      <td>165.550003</td>\n",
       "      <td>162.100006</td>\n",
       "      <td>163.169998</td>\n",
       "      <td>161.326385</td>\n",
       "      <td>83737200</td>\n",
       "    </tr>\n",
       "    <tr>\n",
       "      <th>2022-03-07</th>\n",
       "      <td>163.360001</td>\n",
       "      <td>165.020004</td>\n",
       "      <td>159.039993</td>\n",
       "      <td>159.300003</td>\n",
       "      <td>157.500137</td>\n",
       "      <td>96418800</td>\n",
       "    </tr>\n",
       "    <tr>\n",
       "      <th>2022-03-08</th>\n",
       "      <td>158.820007</td>\n",
       "      <td>162.880005</td>\n",
       "      <td>155.800003</td>\n",
       "      <td>157.440002</td>\n",
       "      <td>155.661133</td>\n",
       "      <td>131148300</td>\n",
       "    </tr>\n",
       "    <tr>\n",
       "      <th>2022-03-09</th>\n",
       "      <td>161.479996</td>\n",
       "      <td>163.410004</td>\n",
       "      <td>159.410004</td>\n",
       "      <td>162.949997</td>\n",
       "      <td>161.108871</td>\n",
       "      <td>91454900</td>\n",
       "    </tr>\n",
       "    <tr>\n",
       "      <th>2022-03-10</th>\n",
       "      <td>160.199997</td>\n",
       "      <td>160.389999</td>\n",
       "      <td>155.979996</td>\n",
       "      <td>158.520004</td>\n",
       "      <td>156.728973</td>\n",
       "      <td>105342000</td>\n",
       "    </tr>\n",
       "    <tr>\n",
       "      <th>2022-03-11</th>\n",
       "      <td>158.929993</td>\n",
       "      <td>159.279999</td>\n",
       "      <td>154.500000</td>\n",
       "      <td>154.729996</td>\n",
       "      <td>152.981766</td>\n",
       "      <td>96970100</td>\n",
       "    </tr>\n",
       "    <tr>\n",
       "      <th>2022-03-14</th>\n",
       "      <td>151.449997</td>\n",
       "      <td>154.119995</td>\n",
       "      <td>150.100006</td>\n",
       "      <td>150.619995</td>\n",
       "      <td>148.918213</td>\n",
       "      <td>108732100</td>\n",
       "    </tr>\n",
       "    <tr>\n",
       "      <th>2022-03-15</th>\n",
       "      <td>150.899994</td>\n",
       "      <td>155.570007</td>\n",
       "      <td>150.380005</td>\n",
       "      <td>155.089996</td>\n",
       "      <td>153.337692</td>\n",
       "      <td>92964300</td>\n",
       "    </tr>\n",
       "    <tr>\n",
       "      <th>2022-03-16</th>\n",
       "      <td>157.050003</td>\n",
       "      <td>160.000000</td>\n",
       "      <td>154.460007</td>\n",
       "      <td>159.589996</td>\n",
       "      <td>157.786850</td>\n",
       "      <td>102300200</td>\n",
       "    </tr>\n",
       "  </tbody>\n",
       "</table>\n",
       "</div>"
      ],
      "text/plain": [
       "                  Open        High         Low       Close   Adj Close  \\\n",
       "Date                                                                     \n",
       "2022-01-18  171.509995  172.539993  169.410004  169.800003  167.667892   \n",
       "2022-01-19  170.000000  171.080002  165.940002  166.229996  164.142700   \n",
       "2022-01-20  166.979996  169.679993  164.179993  164.509995  162.444275   \n",
       "2022-01-21  164.419998  166.330002  162.300003  162.410004  160.370667   \n",
       "2022-01-24  160.020004  162.300003  154.699997  161.619995  159.590591   \n",
       "2022-01-25  158.979996  162.759995  157.020004  159.779999  157.773712   \n",
       "2022-01-26  163.500000  164.389999  157.820007  159.690002  157.684814   \n",
       "2022-01-27  162.449997  163.839996  158.279999  159.220001  157.220718   \n",
       "2022-01-28  165.710007  170.350006  162.800003  170.330002  168.191208   \n",
       "2022-01-31  170.160004  175.000000  169.509995  174.779999  172.585327   \n",
       "2022-02-01  174.009995  174.839996  172.309998  174.610001  172.417480   \n",
       "2022-02-02  174.750000  175.880005  173.330002  175.839996  173.632034   \n",
       "2022-02-03  174.479996  176.240005  172.119995  172.899994  170.728928   \n",
       "2022-02-04  171.679993  174.100006  170.679993  172.389999  170.442245   \n",
       "2022-02-07  172.860001  173.949997  170.949997  171.660004  169.720474   \n",
       "2022-02-08  171.729996  175.350006  171.429993  174.830002  172.854675   \n",
       "2022-02-09  176.050003  176.649994  174.899994  176.279999  174.288254   \n",
       "2022-02-10  174.139999  175.479996  171.550003  172.119995  170.175293   \n",
       "2022-02-11  172.330002  173.080002  168.039993  168.639999  166.734604   \n",
       "2022-02-14  167.369995  169.580002  166.559998  168.880005  166.971909   \n",
       "2022-02-15  170.970001  172.949997  170.250000  172.789993  170.837708   \n",
       "2022-02-16  171.850006  173.339996  170.050003  172.550003  170.600418   \n",
       "2022-02-17  171.029999  171.910004  168.470001  168.880005  166.971909   \n",
       "2022-02-18  169.820007  170.539993  166.190002  167.300003  165.409760   \n",
       "2022-02-22  164.979996  166.690002  162.149994  164.320007  162.463425   \n",
       "2022-02-23  165.539993  166.149994  159.750000  160.070007  158.261444   \n",
       "2022-02-24  152.580002  162.850006  152.000000  162.740005  160.901291   \n",
       "2022-02-25  163.839996  165.119995  160.869995  164.850006  162.987442   \n",
       "2022-02-28  163.059998  165.419998  162.429993  165.119995  163.254349   \n",
       "2022-03-01  164.699997  166.600006  161.970001  163.199997  161.356064   \n",
       "2022-03-02  164.389999  167.360001  162.949997  166.559998  164.678116   \n",
       "2022-03-03  168.470001  168.910004  165.550003  166.229996  164.351837   \n",
       "2022-03-04  164.490005  165.550003  162.100006  163.169998  161.326385   \n",
       "2022-03-07  163.360001  165.020004  159.039993  159.300003  157.500137   \n",
       "2022-03-08  158.820007  162.880005  155.800003  157.440002  155.661133   \n",
       "2022-03-09  161.479996  163.410004  159.410004  162.949997  161.108871   \n",
       "2022-03-10  160.199997  160.389999  155.979996  158.520004  156.728973   \n",
       "2022-03-11  158.929993  159.279999  154.500000  154.729996  152.981766   \n",
       "2022-03-14  151.449997  154.119995  150.100006  150.619995  148.918213   \n",
       "2022-03-15  150.899994  155.570007  150.380005  155.089996  153.337692   \n",
       "2022-03-16  157.050003  160.000000  154.460007  159.589996  157.786850   \n",
       "\n",
       "               Volume  \n",
       "Date                   \n",
       "2022-01-18   90956700  \n",
       "2022-01-19   94815000  \n",
       "2022-01-20   91420500  \n",
       "2022-01-21  122848900  \n",
       "2022-01-24  162294600  \n",
       "2022-01-25  115798400  \n",
       "2022-01-26  108275300  \n",
       "2022-01-27  121954600  \n",
       "2022-01-28  179935700  \n",
       "2022-01-31  115541600  \n",
       "2022-02-01   86213900  \n",
       "2022-02-02   84914300  \n",
       "2022-02-03   89418100  \n",
       "2022-02-04   82465400  \n",
       "2022-02-07   77251200  \n",
       "2022-02-08   74829200  \n",
       "2022-02-09   71285000  \n",
       "2022-02-10   90865900  \n",
       "2022-02-11   98670700  \n",
       "2022-02-14   86185500  \n",
       "2022-02-15   62527400  \n",
       "2022-02-16   61177400  \n",
       "2022-02-17   69589300  \n",
       "2022-02-18   82772700  \n",
       "2022-02-22   91162800  \n",
       "2022-02-23   90009200  \n",
       "2022-02-24  141147500  \n",
       "2022-02-25   91974200  \n",
       "2022-02-28   95056600  \n",
       "2022-03-01   83474400  \n",
       "2022-03-02   79724800  \n",
       "2022-03-03   76678400  \n",
       "2022-03-04   83737200  \n",
       "2022-03-07   96418800  \n",
       "2022-03-08  131148300  \n",
       "2022-03-09   91454900  \n",
       "2022-03-10  105342000  \n",
       "2022-03-11   96970100  \n",
       "2022-03-14  108732100  \n",
       "2022-03-15   92964300  \n",
       "2022-03-16  102300200  "
      ]
     },
     "execution_count": 10,
     "metadata": {},
     "output_type": "execute_result"
    }
   ],
   "source": [
    "data"
   ]
  },
  {
   "cell_type": "code",
   "execution_count": 11,
   "id": "e1078a58-0815-475e-ac78-c4e34452c4c6",
   "metadata": {},
   "outputs": [
    {
     "data": {
      "text/plain": [
       "157.78684997558594"
      ]
     },
     "execution_count": 11,
     "metadata": {},
     "output_type": "execute_result"
    }
   ],
   "source": [
    "# Use the last available adjusted closing price as the stock price\n",
    "S = data['Adj Close'].iloc[-1]  \n",
    "S"
   ]
  },
  {
   "cell_type": "code",
   "execution_count": 12,
   "id": "b05f4b48-9a8e-4a2e-86aa-67fe0ef72713",
   "metadata": {},
   "outputs": [],
   "source": [
    "\n",
    "# Calculate time to expiration (T)\n",
    "expiration_date = dt.datetime.strptime(end_date, '%Y-%m-%d').date()\n",
    "reference_date = dt.datetime.strptime(start_date, '%Y-%m-%d').date()\n",
    "T = (expiration_date - reference_date).days / 365  # Time to expiration (in years)\n"
   ]
  },
  {
   "cell_type": "code",
   "execution_count": 13,
   "id": "d892aad0-1cfb-43b7-a2b5-b023f0d0f611",
   "metadata": {},
   "outputs": [
    {
     "data": {
      "text/plain": [
       "0.16164383561643836"
      ]
     },
     "execution_count": 13,
     "metadata": {},
     "output_type": "execute_result"
    }
   ],
   "source": [
    "T"
   ]
  },
  {
   "cell_type": "code",
   "execution_count": 14,
   "id": "2ecdb17b-cec4-45ce-ac90-687dcf7c304c",
   "metadata": {},
   "outputs": [],
   "source": [
    "# Volatility calculation\n",
    "vol = np.std(data['Adj Close'].pct_change()) * np.sqrt(252)  # Annualized historical volatility (%)\n"
   ]
  },
  {
   "cell_type": "code",
   "execution_count": 15,
   "id": "a82fc529-7de5-4035-9232-fd89b935606b",
   "metadata": {},
   "outputs": [
    {
     "data": {
      "text/plain": [
       "0.32883165723629204"
      ]
     },
     "execution_count": 15,
     "metadata": {},
     "output_type": "execute_result"
    }
   ],
   "source": [
    "vol"
   ]
  },
  {
   "cell_type": "code",
   "execution_count": 31,
   "id": "a30795e1-fe27-4c11-87c2-5de000fe3f0f",
   "metadata": {},
   "outputs": [],
   "source": [
    "# Monte Carlo simulation parameters\n",
    "\n",
    "N = 10  # Number of time steps\n",
    "M = 1000  # Number of simulations\n"
   ]
  },
  {
   "cell_type": "code",
   "execution_count": 32,
   "id": "e8ed6e72-743d-4857-9571-0ee86de01030",
   "metadata": {},
   "outputs": [],
   "source": [
    "# Define function to calculate delta of an option\n",
    "def delta_calc(S, K, T, r, sigma, option_type='c'):\n",
    "     # Calculate delta of an option using the Black-Scholes formula.\n",
    "    \n",
    "    # d1 => represents the standardized measure of how many standard deviations the current stock price is from the strike price\n",
    "    d1 = (np.log(S / K) + (r + sigma**2 / 2) * T) / (sigma * np.sqrt(T))\n",
    "    if option_type == 'c':\n",
    "        return stats.norm.cdf(d1, 0, 1)\n",
    "    elif option_type == 'p':\n",
    "        return -stats.norm.cdf(-d1, 0, 1)\n",
    "    else:\n",
    "        raise ValueError(\"Invalid option type. Use 'c' for Call or 'p' for Put.\")\n"
   ]
  },
  {
   "cell_type": "code",
   "execution_count": 33,
   "id": "b2970028-fdb5-464f-be53-8b14caed8c18",
   "metadata": {},
   "outputs": [],
   "source": [
    "# Define function to calculate Black-Scholes call option price\n",
    "def black_scholes_call_price(S, K, T, r, sigma):\n",
    "    # Calculate the price of a European call option using the Black-Scholes formula.\n",
    "    \n",
    "    d1 = (np.log(S / K) + (r + sigma**2 / 2) * T) / (sigma * np.sqrt(T))\n",
    "    # d2 =>  represents a standardized measure of how many sd the current stock price is from the strike price when adjusted for time and volatility.\n",
    "    d2 = d1 - sigma * np.sqrt(T)\n",
    "    return S * stats.norm.cdf(d1) - K * np.exp(-r * T) * stats.norm.cdf(d2)\n"
   ]
  },
  {
   "cell_type": "code",
   "execution_count": 34,
   "id": "ac7a1508-0a19-47a8-901e-e3dfe63289f9",
   "metadata": {},
   "outputs": [],
   "source": [
    "#  constants for Monte Carlo simulation\n",
    "dt = T / N   \n",
    "nudt = (r - 0.5 * vol**2) * dt\n",
    "volsdt = vol * np.sqrt(dt)\n",
    "erdt = np.exp(r * dt)\n"
   ]
  },
  {
   "cell_type": "code",
   "execution_count": 44,
   "id": "c86fd447-bbb0-4fc8-a98d-8df3937253dc",
   "metadata": {},
   "outputs": [],
   "source": [
    "# Monte Carlo simulation\n",
    "Z = np.random.normal(size=(N, M))\n",
    "delta_St = nudt + volsdt * Z  #am geting the changes in the asset price at each time step.\n",
    "ST = S * np.cumprod(np.exp(delta_St), axis=0)"
   ]
  },
  {
   "cell_type": "code",
   "execution_count": 45,
   "id": "c009ef0c-2773-4282-8f86-f8a3534fb981",
   "metadata": {},
   "outputs": [
    {
     "data": {
      "text/plain": [
       "array([[150.58619636, 150.09061936, 164.30610554, ..., 149.71836769,\n",
       "        166.15640858, 155.92340859],\n",
       "       [150.57297347, 145.75294275, 160.83927027, ..., 155.65656982,\n",
       "        167.20438699, 167.13255261],\n",
       "       [154.94201498, 147.42721773, 154.81713527, ..., 144.56366532,\n",
       "        168.06854223, 181.5576798 ],\n",
       "       ...,\n",
       "       [136.03396405, 138.94164923, 163.74892764, ..., 154.13279018,\n",
       "        174.58708822, 184.34899127],\n",
       "       [145.69659046, 147.77524941, 168.13228479, ..., 163.27467952,\n",
       "        175.21554904, 166.73246236],\n",
       "       [147.86976336, 151.8706097 , 163.34539579, ..., 166.94532339,\n",
       "        172.85082186, 155.70926783]])"
      ]
     },
     "execution_count": 45,
     "metadata": {},
     "output_type": "execute_result"
    }
   ],
   "source": [
    "ST"
   ]
  },
  {
   "cell_type": "markdown",
   "id": "91d6eeea-70f5-438c-b800-dea76e7bb66c",
   "metadata": {},
   "source": [
    "### Note"
   ]
  },
  {
   "cell_type": "markdown",
   "id": "16c3e94c-7a90-4a40-a752-ef1cd7de9f52",
   "metadata": {},
   "source": [
    "1. The array ST represents the asset price trajectories over time .\n",
    "2. Each row of the array corresponds to a specific time step whereas   each column represents a different simulation or path."
   ]
  },
  {
   "cell_type": "code",
   "execution_count": 38,
   "id": "ee0c0d6b-ed81-4b9e-946a-526986289d0a",
   "metadata": {},
   "outputs": [],
   "source": [
    "# Calculate differences in asset prices and refining the shape to be good\n",
    "\n",
    "price_differences = (ST[1:] - ST[:-1] * erdt)\n",
    "price_differences = np.vstack([np.zeros((1, M)), price_differences])\n",
    "\n",
    "# Correcting the shape mismatch\n",
    "cv = np.cumsum(deltaSt * price_differences, axis=0)\n"
   ]
  },
  {
   "cell_type": "markdown",
   "id": "28d65759-72bb-4a11-8f37-6837b4f8a6c8",
   "metadata": {},
   "source": [
    "### Note"
   ]
  },
  {
   "cell_type": "markdown",
   "id": "20fa7c5d-c350-4462-a45f-cf4486cf4e7f",
   "metadata": {},
   "source": [
    "CV contains the cumulative values of the option's payoff changes over time for each simulation"
   ]
  },
  {
   "cell_type": "code",
   "execution_count": 49,
   "id": "230ec4b2-c752-40b4-94e1-5e47cb48fb25",
   "metadata": {},
   "outputs": [
    {
     "data": {
      "text/plain": [
       "2"
      ]
     },
     "execution_count": 49,
     "metadata": {},
     "output_type": "execute_result"
    }
   ],
   "source": [
    "price_differences.ndim"
   ]
  },
  {
   "cell_type": "code",
   "execution_count": 46,
   "id": "fe21715c-d19e-49ec-8961-09248eaaaae1",
   "metadata": {},
   "outputs": [
    {
     "data": {
      "text/plain": [
       "array([[  0.        ,   0.        ,   0.        , ...,   0.        ,\n",
       "          0.        ,   0.        ],\n",
       "       [  6.15537852,  -5.64473475,   1.70655729, ...,  10.89837012,\n",
       "         -1.01210358,   3.3369007 ],\n",
       "       [  1.18447228,   5.76599614,   0.3352025 , ...,   7.79806815,\n",
       "        -16.0674435 ,   3.06657743],\n",
       "       ...,\n",
       "       [  3.63077143,  -1.59817805,   8.61815011, ...,   4.57357446,\n",
       "        -11.31416645,  -4.69828425],\n",
       "       [  1.6526852 ,  -3.63109496,   9.95466969, ...,  -8.34647415,\n",
       "          6.08415786,  -3.22851164],\n",
       "       [ -8.41735224,   2.05333547,   7.94798717, ...,   3.95437455,\n",
       "          5.24886553,   6.05875658]])"
      ]
     },
     "execution_count": 46,
     "metadata": {},
     "output_type": "execute_result"
    }
   ],
   "source": [
    "price_differences"
   ]
  },
  {
   "cell_type": "code",
   "execution_count": 50,
   "id": "56fb968a-285c-4597-b28e-4b3408659535",
   "metadata": {},
   "outputs": [
    {
     "data": {
      "text/plain": [
       "2"
      ]
     },
     "execution_count": 50,
     "metadata": {},
     "output_type": "execute_result"
    }
   ],
   "source": [
    "cv.ndim"
   ]
  },
  {
   "cell_type": "code",
   "execution_count": 40,
   "id": "4b4b75cf-86bd-4c31-8e24-3be7fc50a44f",
   "metadata": {},
   "outputs": [
    {
     "name": "stdout",
     "output_type": "stream",
     "text": [
      "[[  0.           0.           0.         ...   0.           0.\n",
      "    0.        ]\n",
      " [  6.15481593  -5.64363065   1.70574585 ...  10.89832232  -1.01096226\n",
      "    3.33643398]\n",
      " [  7.33925455   0.12222979   2.04087519 ...  18.69638906 -16.86588519\n",
      "    6.40291992]\n",
      " ...\n",
      " [ -4.11152606  -7.40225372  -7.32381156 ...  30.80709565 -14.24763485\n",
      "   12.80569672]\n",
      " [ -2.45884086 -11.03334868   2.63085813 ...  22.4606215   -8.16347712\n",
      "    9.57718509]\n",
      " [-10.8761931   -8.98001321  10.5788453  ...  26.41499605  -2.91461159\n",
      "   15.63594167]]\n"
     ]
    }
   ],
   "source": [
    "print(cv)"
   ]
  },
  {
   "cell_type": "code",
   "execution_count": 42,
   "id": "66f44c56-2c92-4664-9025-472fe8aa6945",
   "metadata": {},
   "outputs": [],
   "source": [
    "# Option pricing\n",
    "CT = np.maximum(0, ST[-1] - K)\n",
    "C0 = np.exp(-r * T) * np.mean(CT)\n",
    "SE = np.std(np.exp(-r * T) * CT) / np.sqrt(M)"
   ]
  },
  {
   "cell_type": "code",
   "execution_count": 43,
   "id": "2eca0d35-a15d-4238-9564-140fff845d38",
   "metadata": {},
   "outputs": [
    {
     "name": "stdout",
     "output_type": "stream",
     "text": [
      "Stock price (S): $157.79\n",
      "Strike price (K): $98.01\n",
      "Volatility (vol): 0.3288\n",
      "Risk-free rate (r): 0.0150\n",
      "Time to expiration (T): 0.1616 years\n",
      "Number of simulations (M): 1000\n",
      "Number of time steps (N): 10\n",
      "-------------------------------------\n",
      "Call option price: $59.97 +/- 0.6530\n"
     ]
    }
   ],
   "source": [
    "# Output results\n",
    "print(\"Stock price (S): ${:.2f}\".format(S))\n",
    "print(\"Strike price (K): ${:.2f}\".format(K))\n",
    "print(\"Volatility (vol): {:.4f}\".format(vol))\n",
    "print(\"Risk-free rate (r): {:.4f}\".format(r))\n",
    "print(\"Time to expiration (T): {:.4f} years\".format(T))\n",
    "print(\"Number of simulations (M):\", M)\n",
    "print(\"Number of time steps (N):\", N)\n",
    "print(\"-------------------------------------\")\n",
    "print(\"Call option price: ${:.2f} +/- {:.4f}\".format(C0, SE))"
   ]
  },
  {
   "cell_type": "code",
   "execution_count": null,
   "id": "5de7c349-1261-4be7-b32c-8ab091b25c8a",
   "metadata": {},
   "outputs": [],
   "source": []
  },
  {
   "cell_type": "code",
   "execution_count": 3,
   "id": "e62c6f5d-3a67-4b42-9598-8a6593ac7e38",
   "metadata": {},
   "outputs": [
    {
     "name": "stdout",
     "output_type": "stream",
     "text": [
      "0.1643835616438356\n"
     ]
    }
   ],
   "source": [
    "# initial derivative parameters\n",
    "# S = 101.15          #stock price\n",
    "# K = 98.01           #strike price\n",
    "# vol = 0.0991        #volatility (%)\n",
    "# r = 0.015            #risk-free rate (%)\n",
    "N = 10              #number of time steps\n",
    "M = 1000            #number of simulations\n",
    "\n",
    "market_value = 3.86 #market price of option\n",
    "T = ((datetime.date(2022,3,17)-datetime.date(2022,1,17)).days+1)/365    #time in years\n",
    "print(T)"
   ]
  },
  {
   "cell_type": "code",
   "execution_count": null,
   "id": "8dc4583b-d5ef-4231-94b7-e91f367cc366",
   "metadata": {},
   "outputs": [],
   "source": []
  },
  {
   "cell_type": "code",
   "execution_count": 4,
   "id": "aca12c40-0056-47f5-8791-eb6173bf6f79",
   "metadata": {},
   "outputs": [],
   "source": [
    "def delta_calc(r, S, K, T, sigma, type=\"c\"):\n",
    "    \"Calculate delta of an option\"\n",
    "    d1 = (np.log(S/K) + (r + sigma**2/2)*T)/(sigma*np.sqrt(T))\n",
    "    try:\n",
    "        if type == \"c\":\n",
    "            delta_calc = stats.norm.cdf(d1, 0, 1)\n",
    "        elif type == \"p\":\n",
    "            delta_calc = -stats.norm.cdf(-d1, 0, 1)\n",
    "        return delta_calc\n",
    "    except:\n",
    "        print(\"Please confirm option type, either 'c' for Call or 'p' for Put!\")"
   ]
  },
  {
   "cell_type": "code",
   "execution_count": 5,
   "id": "a31bad7e-627c-4d88-941d-4fa86debac6b",
   "metadata": {},
   "outputs": [
    {
     "name": "stdout",
     "output_type": "stream",
     "text": [
      "Call value is $3.77 with SE +/- 0.027\n"
     ]
    }
   ],
   "source": [
    "#precompute constants\n",
    "N = 1\n",
    "dt = T/N\n",
    "nudt = (r - 0.5*vol**2)*dt\n",
    "volsdt = vol*np.sqrt(dt)\n",
    "\n",
    "erdt = np.exp(r*dt)\n",
    "cv = 0\n",
    "beta1 = -1\n",
    "\n",
    "# Monte Carlo Method\n",
    "Z = np.random.normal(size=(N, M))\n",
    "delta_St = nudt + volsdt*Z\n",
    "ST = S*np.cumprod( np.exp(delta_St), axis=0)\n",
    "ST = np.concatenate( (np.full(shape=(1, M), fill_value=S), ST ) )\n",
    "deltaSt = delta_calc(r, ST[:-1].T, K, np.linspace(T,0,N), vol, \"c\").T\n",
    "cv = np.cumsum(deltaSt*(ST[1:] - ST[:-1]*erdt), axis=0)\n",
    "\n",
    "\n",
    "CT = np.maximum(0, ST[-1] - K) + beta1*cv[-1]\n",
    "# CT = np.maximum(0, ST[-1] - K)\n",
    "C0 = np.exp(-r*T)*np.sum(CT)/M\n",
    "\n",
    "sigma = np.sqrt( np.sum( (np.exp(-r*T)*CT - C0)**2) / (M-1) )\n",
    "sigma = np.std(np.exp(-r*T)*CT)\n",
    "SE = sigma/np.sqrt(M)\n",
    "\n",
    "print(\"Call value is ${0} with SE +/- {1}\".format(np.round(C0,2),np.round(SE,3)))"
   ]
  },
  {
   "cell_type": "code",
   "execution_count": null,
   "id": "d0d2e113-9a1e-408e-a16e-e8b7bbea4bf7",
   "metadata": {},
   "outputs": [],
   "source": []
  },
  {
   "cell_type": "code",
   "execution_count": null,
   "id": "97d416ec-3144-41ee-9a99-0d97635ff50a",
   "metadata": {},
   "outputs": [],
   "source": []
  }
 ],
 "metadata": {
  "kernelspec": {
   "display_name": "Python 3 (ipykernel)",
   "language": "python",
   "name": "python3"
  },
  "language_info": {
   "codemirror_mode": {
    "name": "ipython",
    "version": 3
   },
   "file_extension": ".py",
   "mimetype": "text/x-python",
   "name": "python",
   "nbconvert_exporter": "python",
   "pygments_lexer": "ipython3",
   "version": "3.11.7"
  }
 },
 "nbformat": 4,
 "nbformat_minor": 5
}
